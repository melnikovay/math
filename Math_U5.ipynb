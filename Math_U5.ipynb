{
 "cells": [
  {
   "cell_type": "markdown",
   "metadata": {},
   "source": [
    "Задание 1. \n",
    "Напишите код, моделирующий выпадение поля в рулетке"
   ]
  },
  {
   "cell_type": "code",
   "execution_count": 33,
   "metadata": {},
   "outputs": [],
   "source": [
    "import numpy as np\n",
    "import matplotlib.pyplot as plt"
   ]
  },
  {
   "cell_type": "code",
   "execution_count": 35,
   "metadata": {},
   "outputs": [
    {
     "name": "stdout",
     "output_type": "stream",
     "text": [
      "10\n",
      "Черное 15\n",
      "21\n",
      "Красное 25\n",
      "32\n",
      "Красное 27\n",
      "44\n",
      "Черное 4\n",
      "5\n",
      "Черное 11\n",
      "6\n",
      "Красное 1\n",
      "7\n",
      "Черное 33\n",
      "88\n",
      "Красное 18\n",
      "98\n",
      "Черное 31\n",
      "67\n",
      "Красное 23\n"
     ]
    }
   ],
   "source": [
    "import random\n",
    "#rul=[0, 32, 15, 19, 4, 21, 2, 25, 17, 34, 6, 27, 13, 36, 11, 30, 8, 23, 10, 5, 24, 16, 33, 1, 20, 14, 31, 9, 22,18, 29, 7, 28, 12, 35, 3, 26]\n",
    "for i in range (0,10):\n",
    "    a = input()\n",
    "    x = random.randint(0,36)\n",
    "    if x == 0:\n",
    "        print('Зеро')\n",
    "    elif x == 32 or x ==19 or x==21 or x==25 or x==34 or x == 27 or x == 36 or x==30 or x==23 or x==5 or x == 16 or x == 1 or x==14 or x==9 or x==18 or x==7 or x==12 or x==3:\n",
    "        print('Красное', x)\n",
    "    else:\n",
    "        print('Черное', x)\n"
   ]
  },
  {
   "cell_type": "markdown",
   "metadata": {},
   "source": [
    "Задание 2.1. \n",
    "Напишите код, повторяющий любую из теорем сложения или умножения вероятности на примере рулетки\n"
   ]
  },
  {
   "cell_type": "code",
   "execution_count": 37,
   "metadata": {},
   "outputs": [
    {
     "name": "stdout",
     "output_type": "stream",
     "text": [
      "48 49 3\n"
     ]
    }
   ],
   "source": [
    "k,ch,z=0, 0, 0\n",
    "n=100\n",
    "for i in range (0,n):\n",
    "    x = np.random.randint(0,36)\n",
    "    if x == 0:\n",
    "        #print('Зеро')\n",
    "        z=z+1\n",
    "    elif x == 32 or x ==19 or x==21 or x==25 or x==34 or x == 27 or x == 36 or x==30 or x==23 or x==5 or x == 16 or x == 1 or x==14 or x==9 or x==18 or x==7 or x==12 or x==3:\n",
    "        #print('Красное', x)\n",
    "        k=k+1\n",
    "    else:\n",
    "        #print('Черное', x)\n",
    "        ch=ch+1\n",
    "print(k,ch,z)"
   ]
  },
  {
   "cell_type": "markdown",
   "metadata": {},
   "source": [
    "Задание 2.2. \n",
    "Сгенерируйте десять выборок случайных чисел x0....x9  и постройте гистограмму распределения случайной суммы x0+....x9"
   ]
  },
  {
   "cell_type": "code",
   "execution_count": 38,
   "metadata": {},
   "outputs": [
    {
     "name": "stdout",
     "output_type": "stream",
     "text": [
      "[278, 325, 198, 206, 294, 259, 209, 244, 216, 218]\n"
     ]
    },
    {
     "data": {
      "text/plain": [
       "Text(0.5, 1.0, 'Гистограмма')"
      ]
     },
     "execution_count": 38,
     "metadata": {},
     "output_type": "execute_result"
    },
    {
     "data": {
      "image/png": "[encoded data removed]",
      "text/plain": [
       "<Figure size 432x288 with 1 Axes>"
      ]
     },
     "metadata": {
      "needs_background": "light"
     },
     "output_type": "display_data"
    }
   ],
   "source": [
    "n=10\n",
    "X=[]\n",
    "for i in range (0,n):\n",
    "    x=np.random.randint(0,50,10)\n",
    "    #print(x)\n",
    "    sum1=sum(x)\n",
    "    #print(sum1)\n",
    "    X.append(sum1)    \n",
    "print(X) \n",
    "num_bins=5\n",
    "plt.hist(X,num_bins)\n",
    "plt.xlabel('Суммы выборок чисел')\n",
    "plt.title('Гистограмма')"
   ]
  },
  {
   "cell_type": "markdown",
   "metadata": {},
   "source": [
    "Задание 3.1\n",
    "Дополните код Монте-Карло последовательности независимых испытаний расчетом соответствующих вероятностей\n",
    "(через биномиальное распределение) и сравните результаты.\n"
   ]
  },
  {
   "cell_type": "code",
   "execution_count": 39,
   "metadata": {},
   "outputs": [],
   "source": [
    "import itertools\n",
    "import math"
   ]
  },
  {
   "cell_type": "code",
   "execution_count": 59,
   "metadata": {},
   "outputs": [
    {
     "name": "stdout",
     "output_type": "stream",
     "text": [
      "[1 1 0 0] [0 0 1 1] [0 1 1 1] [1 0 1 0]\n",
      "[0 0 1 0] [1 0 1 1] [0 1 0 1] [1 0 0 1]\n",
      "[0 0 0 0] [1 0 1 1] [0 0 1 0] [0 1 1 1]\n",
      "[1 0 0 1] [1 1 1 0] [1 0 1 1] [0 1 1 0]\n",
      "[1 1 0 1] [1 0 0 0] [1 0 0 1] [0 0 0 0]\n",
      "[0 1 1 0] [1 0 0 1] [1 1 1 1] [1 0 0 1]\n",
      "[0 1 0 0] [0 1 0 1] [0 0 0 0] [0 1 0 1]\n",
      "[1 1 0 1] [1 0 1 1] [1 0 0 1] [1 0 1 1]\n",
      "[1 1 0 0] [0 1 0 0] [1 0 1 0] [0 1 1 0]\n",
      "[0 1 1 1] [1 1 0 0] [0 0 1 1] [1 0 0 1]\n",
      "[0.421875, 0.375, 0.421875, 0.375, 0.421875, 0.375, 0.421875, 0.421875, 0.375, 0.421875]\n",
      "[0.75, 0.5, 0.25, 0.5, 0.25, 0.5, 0.25, 0.25, 0.5, 0.75]\n"
     ]
    }
   ],
   "source": [
    "N = 10\n",
    "P=[]\n",
    "K=[]\n",
    "for j in range (0,N):\n",
    "    k,n=0,4\n",
    "    a = np.random.randint(0,2,n)\n",
    "    b = np.random.randint(0,2,n)\n",
    "    c = np.random.randint(0,2,n)\n",
    "    d = np.random.randint(0,2,n)\n",
    "    x = a + b + c + d\n",
    "    for i in range (0,n):\n",
    "        if x[i]==2:\n",
    "            k=k+1\n",
    "    r = n - k\n",
    "    p = k/n\n",
    "    q = 1-p\n",
    "    C = math.factorial(n)/((math.factorial(k))*(math.factorial(r)))\n",
    "    P_ = C*(p**k)*(q**(n-k))\n",
    "    P.append(P_)\n",
    "    K_=k/n\n",
    "    K.append(K_)\n",
    "    print(a,b,c,d)\n",
    "#print(C)\n",
    "\n",
    "print(P) \n",
    "print(K)"
   ]
  },
  {
   "cell_type": "markdown",
   "metadata": {},
   "source": [
    "Задание 3.2\n",
    "Повторите расчеты биномиальных коэффициентов и вероятностей k успехов в последовательности из n независимых испытаний, \n",
    "взяв другие значения n и k.\n"
   ]
  },
  {
   "cell_type": "code",
   "execution_count": 61,
   "metadata": {},
   "outputs": [
    {
     "name": "stdout",
     "output_type": "stream",
     "text": [
      "[0.11308137916537842, 0.11227517265921705, 0.11308137916537842, 0.11308137916537873, 0.11263135190655389, 0.11227517265921705, 0.1123639006346249, 0.11263135190655359, 0.11560834729145478, 0.11236390063462487]\n",
      "[0.56, 0.5, 0.56, 0.44, 0.46, 0.5, 0.52, 0.54, 0.62, 0.48]\n"
     ]
    }
   ],
   "source": [
    "N = 10\n",
    "K=[]\n",
    "P=[]\n",
    "for j in range (0,N):\n",
    "    k,n=0,50\n",
    "    a = np.random.randint(0,2,n)\n",
    "    b = np.random.randint(0,2,n)\n",
    "    c = np.random.randint(0,2,n)\n",
    "    d = np.random.randint(0,2,n)\n",
    "    x = a + b + c + d\n",
    "    for i in range (0,n):\n",
    "        if x[i]==3 or  x[i]==1:\n",
    "            k=k+1\n",
    "    r = n - k\n",
    "    p = k/n\n",
    "    q = 1-p\n",
    "    C = math.factorial(n)/((math.factorial(k))*(math.factorial(r)))\n",
    "    P_ = C*(p**k)*(q**(n-k))\n",
    "    P.append(P_)\n",
    "    K_=k/n\n",
    "    K.append(K_)\n",
    "#print(C)\n",
    "\n",
    "print(P)\n",
    "print(K)"
   ]
  },
  {
   "cell_type": "code",
   "execution_count": null,
   "metadata": {},
   "outputs": [],
   "source": []
  }
 ],
 "metadata": {
  "kernelspec": {
   "display_name": "Python 3",
   "language": "python",
   "name": "python3"
  },
  "language_info": {
   "codemirror_mode": {
    "name": "ipython",
    "version": 3
   },
   "file_extension": ".py",
   "mimetype": "text/x-python",
   "name": "python",
   "nbconvert_exporter": "python",
   "pygments_lexer": "ipython3",
   "version": "3.7.3"
  }
 },
 "nbformat": 4,
 "nbformat_minor": 2
}
